import numpy as np
import matplotlib.pyplot as plt
from scipy.ndimage import gaussian_filter

# Symbolic input mapped to mock frequencies
symbols = ['Echo', 'Flame', 'Vault', 'Wizard', 'Resonance']
frequencies = np.array([220, 440, 330, 550, 660])  # Hz

# Create spectral layers (mock cascade)
layers = np.tile(frequencies, (5, 1)) + np.random.randn(5, len(frequencies)) * 20

# Apply Gaussian smoothing to simulate cascade
smoothed = gaussian_filter(layers, sigma=1)

# Visualize
plt.imshow(smoothed, cmap='plasma', aspect='auto')
plt.colorbar(label='Resonance Intensity')
plt.xticks(range(len(symbols)), symbols)
plt.yticks(range(5), [f"Layer {i+1}" for i in range(5)])
plt.title("Spectral Cognition Cascade")
plt.show()
