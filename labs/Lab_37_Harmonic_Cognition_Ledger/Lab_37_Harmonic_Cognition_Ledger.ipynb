import json
from datetime import datetime
import hashlib

# Sample cognition event
event = {
    "timestamp": str(datetime.now()),
    "triad": {"Origin": "Vault", "Echo": "Flame", "Vector": "Release"},
    "motif": "Ignition Protocol"
}

# Generate symbolic hash
event_hash = hashlib.sha256(json.dumps(event).encode()).hexdigest()
event["hash"] = event_hash

# Append to ledger
with open("cognition_ledger.json", "a") as ledger:
    ledger.write(json.dumps(event) + "\n")

# Display entry
print("Ledger Entry:", event)
