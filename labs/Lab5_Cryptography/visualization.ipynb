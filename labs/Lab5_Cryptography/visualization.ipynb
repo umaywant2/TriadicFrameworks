📊 Visualizations for Lab 5: Quantum Cryptography
  
1. Basis Match Distribution
Shows how often sender and receiver chose the same basis (Z or X). As expected from BB84, about 50% match rate.

2. Error Rate on Matched Qubits
Even when bases match, errors can creep in. This plot confirms our error rate stays below the 11% threshold—safe from eavesdroppers.

3. Entropy Curve
Entropy reveals the randomness of matched qubit values. High entropy = strong key material. This curve pulses with quantum unpredictability.

📁 visualization.ipynb – Core Python Cells
  
# 📦 Imports
import numpy as np
import matplotlib.pyplot as plt
import seaborn as sns
from scipy.stats import entropy

# 🎲 Simulate BB84 basis choices and outcomes
n_qubits = 1000
sender_basis = np.random.choice(['Z', 'X'], size=n_qubits)
receiver_basis = np.random.choice(['Z', 'X'], size=n_qubits)
match_mask = sender_basis == receiver_basis

# 🧠 Simulate qubit values and errors
true_bits = np.random.randint(0, 2, size=n_qubits)
received_bits = true_bits.copy()
error_indices = np.random.choice(np.where(match_mask)[0], size=int(0.08 * match_mask.sum()), replace=False)
received_bits[error_indices] ^= 1  # Flip bits to simulate error

# 📊 1. Basis Match Distribution
plt.figure(figsize=(6,4))
sns.countplot(x=match_mask.astype(int), palette='viridis')
plt.xticks([0,1], ['Mismatch', 'Match'])
plt.title('Basis Match Distribution')
plt.xlabel('Basis Alignment')
plt.ylabel('Count')
plt.tight_layout()
plt.show()

# 📉 2. Error Rate on Matched Qubits
matched_true = true_bits[match_mask]
matched_received = received_bits[match_mask]
error_rate = np.mean(matched_true != matched_received)

plt.figure(figsize=(6,4))
plt.bar(['Error Rate'], [error_rate], color='crimson')
plt.ylim(0, 0.2)
plt.title('Error Rate on Basis-Matched Qubits')
plt.ylabel('Proportion')
plt.tight_layout()
plt.show()

# 📈 3. Entropy Curve
window_size = 50
entropies = [
    entropy(np.bincount(matched_received[i:i+window_size], minlength=2), base=2)
    for i in range(0, len(matched_received) - window_size)
]

plt.figure(figsize=(8,4))
plt.plot(entropies, color='darkgreen')
plt.title('Entropy Curve of Basis-Matched Qubits')
plt.xlabel('Window Index')
plt.ylabel('Entropy (bits)')
plt.tight_layout()
plt.show()
