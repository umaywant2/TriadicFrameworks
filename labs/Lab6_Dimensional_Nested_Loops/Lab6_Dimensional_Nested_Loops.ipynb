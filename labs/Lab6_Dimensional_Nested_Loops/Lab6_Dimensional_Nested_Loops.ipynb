# 🧪 Lab 6: Dimensional Nested Loops
# Mythic Preface: "Dimensions nest like Russian dolls—each loop a breath of the cosmos."

import numpy as np
import matplotlib.pyplot as plt

# Time vector
t = np.linspace(0, 20, 2000)

# Define nested loops with harmonic frequencies
f1 = 1      # Biological rhythm
f2 = 0.1    # Circadian modulation
f3 = 0.01   # Cosmic phase

L1 = np.sin(2 * np.pi * f1 * t)           # Loop A: Heartbeat
L2 = np.sin(2 * np.pi * f2 * t + np.pi/4) # Loop B: Circadian
L3 = np.sin(2 * np.pi * f3 * t + np.pi/2) # Loop C: Lunar/Cosmic

# Nested resonance
Psi = L1 * L2 * L3

# Plot nested loops and composite resonance
plt.figure(figsize=(12, 6))
plt.plot(t, L1, label='Biological Loop (L1)', alpha=0.6)
plt.plot(t, L2, label='Circadian Loop (L2)', alpha=0.6)
plt.plot(t, L3, label='Cosmic Loop (L3)', alpha=0.6)
plt.plot(t, Psi, label='Nested Resonance Ψ(t)', color='black', linewidth=2)
plt.title("Dimensional Nested Loop Resonance")
plt.xlabel("Time (s)")
plt.ylabel("Amplitude")
plt.legend()
plt.grid(True)
plt.tight_layout()
plt.show()
