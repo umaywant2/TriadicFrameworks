# 📦 Imports
import numpy as np
import matplotlib.pyplot as plt
import seaborn as sns

# 🔬 1. Quantum Tunneling Probability Curve
a = 1e-10  # barrier width (m)
V = 0.5    # barrier height (eV)
m = 9.11e-31  # electron mass (kg)
hbar = 1.055e-34  # reduced Planck constant (J·s)

E_vals = np.linspace(0.01, V, 100)
P_tunnel = np.exp(-2 * a / hbar * np.sqrt(2 * m * (V - E_vals) * 1.602e-19))

plt.figure(figsize=(8,4))
plt.plot(E_vals, P_tunnel, color='purple')
plt.title('Quantum Tunneling Probability vs Particle Energy')
plt.xlabel('Energy (eV)')
plt.ylabel('Tunneling Probability')
plt.grid(True)
plt.tight_layout()
plt.show()

# 🌿 2. Coherence Decay Curve
t = np.linspace(0, 1000, 200)  # femtoseconds
C_t = np.exp(-t / 300) * np.cos(2 * np.pi * t / 150)

plt.figure(figsize=(8,4))
plt.plot(t, C_t, color='forestgreen')
plt.title('Quantum Coherence Decay in Photosynthetic Complex')
plt.xlabel('Time (fs)')
plt.ylabel('Coherence C(t)')
plt.grid(True)
plt.tight_layout()
plt.show()
