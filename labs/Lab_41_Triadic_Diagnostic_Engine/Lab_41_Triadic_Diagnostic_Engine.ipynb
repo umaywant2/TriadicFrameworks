import numpy as np

# Sample triadic input
triad = {
    "Symptom": "Fatigue",
    "Biomarker": "Elevated cortisol",
    "Intention": "Rest and solitude"
}

# Frequency mapping (mock values)
freqs = {"Fatigue": 2.0, "Elevated cortisol": 4.5, "Rest and solitude": 1.2}

# Phase alignment scoring
def resonance_score(freqs):
    phases = np.array([np.sin(f) for f in freqs.values()])
    score = np.std(phases)
    return round(1 / (1 + score), 2)  # Lower std = higher resonance

score = resonance_score(freqs)
print(f"Resonance Score: {score}")
