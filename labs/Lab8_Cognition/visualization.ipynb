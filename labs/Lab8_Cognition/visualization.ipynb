# 📦 Imports
import numpy as np
import matplotlib.pyplot as plt
import seaborn as sns

# 🧠 1. Mental Superposition Visualization
alpha = 0.6
beta = np.sqrt(1 - alpha**2)
states = ['|0⟩', '|1⟩']
probs = [alpha**2, beta**2]

plt.figure(figsize=(6,4))
sns.barplot(x=states, y=probs, palette='coolwarm')
plt.title('Mental Superposition Probabilities')
plt.ylabel('Probability')
plt.tight_layout()
plt.show()

# 🔗 2. Cognitive Entanglement (Concurrence)
concurrence_vals = np.linspace(0, 1, 100)
context_noise = np.exp(-concurrence_vals * 2)

plt.figure(figsize=(8,4))
plt.plot(concurrence_vals, context_noise, color='indigo')
plt.title('Contextual Noise vs Cognitive Entanglement')
plt.xlabel('Concurrence')
plt.ylabel('Decoherence Factor')
plt.grid(True)
plt.tight_layout()
plt.show()

# 🌀 3. Decision Collapse Simulation
t = np.linspace(0, 10, 200)
collapse_curve = 1 - np.exp(-t)

plt.figure(figsize=(8,4))
plt.plot(t, collapse_curve, color='darkgreen')
plt.title('Decision Collapse Over Time')
plt.xlabel('Time (arbitrary units)')
plt.ylabel('Collapse Probability')
plt.grid(True)
plt.tight_layout()
plt.show()
