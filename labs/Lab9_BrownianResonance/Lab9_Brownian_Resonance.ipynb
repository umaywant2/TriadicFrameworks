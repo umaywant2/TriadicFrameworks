import numpy as np
import matplotlib.pyplot as plt

# Time vector
t = np.linspace(0, 100, 1000)
dt = t[1] - t[0]
f = 0.1  # resonance frequency

# Brownian motion
dx = np.random.normal(loc=0, scale=np.sqrt(dt), size=len(t))
x = np.cumsum(dx)

# Resonance overlay
R = x * np.sin(2 * np.pi * f * t)

# Plot
plt.figure(figsize=(12,6))
plt.plot(t, x, label='Brownian Motion', alpha=0.6)
plt.plot(t, R, label='Resonant Overlay', color='purple')
plt.title("Brownian Resonance")
plt.xlabel("Time")
plt.ylabel("Amplitude")
plt.legend()
plt.grid(True)
plt.tight_layout()
plt.show()
