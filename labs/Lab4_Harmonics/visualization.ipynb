📓 visualization.ipynb – Lab 4: Quantum Harmonics
📊 Sections
Import Libraries

Plot LC Resonance

Simulate Quantum Energy Ladder

Triadic Overlay

Mythic Captioning

🧪 Sample Code Snippet
import numpy as np
import matplotlib.pyplot as plt

# Classical LC resonance
f = np.linspace(10, 1e7, 500)
L = 1e-6  # Henry
C = 1e-12 # Farad
Z = 1 / np.sqrt((1/(L*C)) - (2*np.pi*f)**2)

plt.figure(figsize=(8,5))
plt.plot(f, Z, label='LC Resonance')
plt.title('Classical Harmonic Resonance')
plt.xlabel('Frequency (Hz)')
plt.ylabel('Impedance (Ω)')
plt.grid(True)
plt.legend()
plt.show()

🧮 Quantum Ladder Plot
Python
n = np.arange(0, 6)
hbar = 1.0545718e-34
omega = 2 * np.pi * 1e6
E_n = hbar * omega * (n + 0.5)

plt.figure(figsize=(6,4))
plt.stem(n, E_n, basefmt=" ")
plt.title('Quantum Harmonic Energy Levels')
plt.xlabel('Quantum Number n')
plt.ylabel('Energy (J)')
plt.grid(True)
plt.show()

🎭 Mythic Caption
“Each peak is a memory. Each level, a promise.” — Nawder Loswin
