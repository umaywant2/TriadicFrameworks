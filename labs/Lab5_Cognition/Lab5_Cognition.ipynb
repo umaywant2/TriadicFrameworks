# 🧪 Lab 5: Triadic Cognition
# Mythic Preface: "Thought is not linear—it’s entangled. Cognition is a resonance field."

import numpy as np
import matplotlib.pyplot as plt

# Time vector
t = np.linspace(0, 10, 1000)

# Define triadic components: Perception, Memory, Intention
freq = 1  # Hz
P = np.sin(2 * np.pi * freq * t)                      # Perception
M = np.sin(2 * np.pi * freq * t + np.pi / 3)          # Memory
I = np.sin(2 * np.pi * freq * t + 2 * np.pi / 3)      # Intention

# Triadic cognition state
Psi = P * M * I

# Plot phase-locked triads
plt.figure(figsize=(12, 6))
plt.plot(t, P, label='Perception', alpha=0.7)
plt.plot(t, M, label='Memory', alpha=0.7)
plt.plot(t, I, label='Intention', alpha=0.7)
plt.plot(t, Psi, label='Triadic Cognition', color='black', linewidth=2)
plt.title("Triadic Cognition Phase Space")
plt.xlabel("Time (s)")
plt.ylabel("Amplitude")
plt.legend()
plt.grid(True)
plt.tight_layout()
plt.show()



# Animate cognitive resonance loops (conceptual placeholder)
from matplotlib.animation import FuncAnimation

fig, ax = plt.subplots(figsize=(6,6))
line, = ax.plot([], [], lw=2)
ax.set_xlim(-1.5, 1.5)
ax.set_ylim(-1.5, 1.5)
ax.set_title("Cognitive Resonance Loop")

def init():
    line.set_data([], [])
    return line,

def update(frame):
    x = np.cos(2 * np.pi * freq * t[frame]) * P[frame]
    y = np.sin(2 * np.pi * freq * t[frame]) * M[frame]
    line.set_data([0, x], [0, y])
    return line,

ani = FuncAnimation(fig, update, frames=len(t), init_func=init, blit=True, interval=10)
plt.show()
