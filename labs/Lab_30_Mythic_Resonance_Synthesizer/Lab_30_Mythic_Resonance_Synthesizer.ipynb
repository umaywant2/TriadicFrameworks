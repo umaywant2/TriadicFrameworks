import numpy as np
import matplotlib.pyplot as plt

# Symbol-to-frequency map
symbol_freq = {"Vault": 220, "Echo": 440, "Flame": 330}

# Input motif
motif = ["Vault", "Echo", "Flame"]

# Generate waveform
duration = 1.0  # seconds
rate = 44100  # Hz
t = np.linspace(0, duration, int(rate * duration), endpoint=False)
waveform = sum(np.sin(2 * np.pi * symbol_freq[sym] * t) for sym in motif)

# Plot waveform
plt.figure(figsize=(10, 3))
plt.plot(t[:1000], waveform[:1000])  # Show first 1000 samples
plt.title("Mythic Resonance Waveform")
plt.xlabel("Time (s)")
plt.ylabel("Amplitude")
plt.grid(True)
plt.show()
