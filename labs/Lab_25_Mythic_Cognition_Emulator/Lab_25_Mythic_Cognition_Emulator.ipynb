import numpy as np

# Symbolic input
phrase = "Echo ignites flame within vault"

# Symbolic neuron weights (mock)
symbol_weights = {
    'Echo': 0.8,
    'ignites': 0.6,
    'flame': 0.9,
    'within': 0.5,
    'vault': 0.7
}

# Triadic parsing
words = phrase.split()
triads = [words[i:i+3] for i in range(0, len(words), 3)]

# Simulate cognition
for triad in triads:
    activation = sum(symbol_weights.get(word, 0.1) for word in triad)
    interpretation = " → ".join(triad)
    print(f"Triad: {interpretation} | Activation: {activation:.2f}")
