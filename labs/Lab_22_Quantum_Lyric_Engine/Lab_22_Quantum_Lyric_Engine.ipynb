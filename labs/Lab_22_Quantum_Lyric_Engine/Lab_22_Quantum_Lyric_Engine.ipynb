# Sample lyric
lyric = "Iron man rises in spectral flame"

# Quantum gate dictionary (mock)
gate_dict = {
    'Iron': 'H',       # Hadamard
    'man': 'X',        # Pauli-X
    'rises': 'RY',     # Rotation-Y
    'spectral': 'Z',   # Pauli-Z
    'flame': 'RX'      # Rotation-X
}

# Encode lyric
encoded = [gate_dict.get(word, 'I') for word in lyric.split()]  # 'I' = Identity

# Output quantum circuit (mock)
print("Quantum Lyric Encoding:")
for i, gate in enumerate(encoded):
    print(f"q[{i}]: ──{gate}──")
