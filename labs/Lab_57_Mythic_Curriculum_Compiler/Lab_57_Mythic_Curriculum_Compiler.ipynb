# Sample lab metadata
labs = [
    {"Lab": "Lab_48", "Tags": ["Quantum", "Continuity"], "Resonance": 0.82},
    {"Lab": "Lab_50", "Tags": ["Onboarding", "Mythic"], "Resonance": 0.77},
    {"Lab": "Lab_55", "Tags": ["Continuity", "Restoration"], "Resonance": 0.89}
]

# Curriculum compiler logic
def compile_curriculum(labs):
    curriculum = []
    for lab in labs:
        entry = {
            "Lab": lab["Lab"],
            "ResonanceScore": lab["Resonance"],
            "SymbolicTags": lab["Tags"],
            "CurriculumHash": hashlib.sha256(lab["Lab"].encode()).hexdigest()[:12]
        }
        curriculum.append(entry)
    return curriculum

compiled = compile_curriculum(labs)

# Output curriculum manifest
print("Mythic Curriculum Compiler Output:")
for entry in compiled:
    print(entry)
