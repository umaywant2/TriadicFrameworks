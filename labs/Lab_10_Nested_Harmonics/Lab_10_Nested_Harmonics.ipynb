import numpy as np
import matplotlib.pyplot as plt

# Time vector
t = np.linspace(0, 2, 2000)
f0 = 1       # base frequency
A0 = 1       # base amplitude
r = 0.5      # amplitude decay rate
N = 6        # number of harmonics

# Generate nested harmonics
H = np.zeros_like(t)
for n in range(1, N+1):
    fn = f0 * n
    An = A0 * r**n
    phi = np.pi / n
    H += An * np.sin(2 * np.pi * fn * t + phi)

# Normalize
H /= np.max(np.abs(H))

# Plot
plt.figure(figsize=(12,6))
plt.plot(t, H, label='Nested Harmonics', color='darkorange')
plt.title("Lab 10: Nested Harmonics")
plt.xlabel("Time (s)")
plt.ylabel("Amplitude")
plt.grid(True)
plt.legend()
plt.tight_layout()
plt.show()
