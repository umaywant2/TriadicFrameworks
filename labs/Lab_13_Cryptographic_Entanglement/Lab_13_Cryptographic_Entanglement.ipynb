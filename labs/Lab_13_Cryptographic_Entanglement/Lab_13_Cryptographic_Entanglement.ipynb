import numpy as np

# Number of entangled pairs
N = 100

# Generate entangled bits (0 or 1)
alice_bits = np.random.choice([0, 1], size=N)
bob_bits = alice_bits.copy()

# Simulate tampering (10% chance of flip)
tamper_indices = np.random.choice(N, size=int(0.1*N), replace=False)
bob_bits[tamper_indices] ^= 1  # flip bits

# Compare outcomes
matches = alice_bits == bob_bits
key = alice_bits[matches]

# Output results
print(f"Total pairs: {N}")
print(f"Matching bits: {np.sum(matches)}")
print(f"Shared key: {key}")
