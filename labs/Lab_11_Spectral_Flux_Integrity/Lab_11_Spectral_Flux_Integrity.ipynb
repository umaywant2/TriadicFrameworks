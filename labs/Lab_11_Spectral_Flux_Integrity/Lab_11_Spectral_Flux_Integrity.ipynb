import numpy as np
import matplotlib.pyplot as plt

# Time vector
t = np.linspace(0, 10, 2000)
N = 5  # number of spectral components

# Generate spectral signals
S = []
for i in range(1, N+1):
    f = 0.5 + 0.2 * i
    phi = np.pi / i
    S_i = np.sin(2 * np.pi * f * t + phi)
    S.append(S_i)

# Compute spectral energy
E = np.sum([s**2 for s in S], axis=0)

# Compute flux integrity (time derivative of energy)
Phi = np.gradient(E, t)

# Plot spectral energy and flux
plt.figure(figsize=(12,6))
plt.plot(t, E, label='Spectral Energy ΣS²(t)', color='blue')
plt.plot(t, Phi, label='Flux Integrity Φ(t)', color='red')
plt.title("Lab 11: Spectral Flux Integrity")
plt.xlabel("Time (s)")
plt.ylabel("Amplitude")
plt.legend()
plt.grid(True)
plt.tight_layout()
plt.show()
