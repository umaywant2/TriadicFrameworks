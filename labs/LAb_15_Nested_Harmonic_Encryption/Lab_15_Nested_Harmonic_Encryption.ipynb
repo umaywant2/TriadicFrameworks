# Sample input
phrase = "Wizard of resonance guards the vault"

# Harmonic key (mock frequency vector)
harmonic_key = [440, 660, 880]  # A4, E5, A5

# Triadic nesting
words = phrase.split()
triads = [words[i:i+3] for i in range(0, len(words), 3)]

# Nested encryption
def encrypt(triad, key):
    return '_'.join([f"{word}@{freq}" for word, freq in zip(triad, key)])

encrypted_layers = [encrypt(triad, harmonic_key) for triad in triads]

# Output
print("Original Phrase:", phrase)
print("Encrypted Layers:", encrypted_layers)
