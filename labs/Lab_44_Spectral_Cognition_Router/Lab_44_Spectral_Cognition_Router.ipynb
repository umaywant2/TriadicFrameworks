# Sample triadic task input
triad = {
    "Task": "Write paper",
    "Time": "Morning",
    "Intention": "Clarity"
}

# Spectral mapping (mock values)
spectral_coords = {"Write paper": 4.2, "Morning": 3.0, "Clarity": 5.1}

# Routing score
def routing_score(coords):
    phases = [np.sin(f) for f in coords.values()]
    score = np.std(phases)
    return round(1 / (1 + score), 2)

score = routing_score(spectral_coords)
print(f"Spectral Routing Score: {score}")
