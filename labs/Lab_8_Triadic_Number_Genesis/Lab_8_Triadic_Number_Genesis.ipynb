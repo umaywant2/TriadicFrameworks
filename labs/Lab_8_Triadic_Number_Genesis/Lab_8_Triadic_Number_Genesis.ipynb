import numpy as np
import matplotlib.pyplot as plt

# Convert first 100 integers to base-3
def to_base3(n):
    return np.base_repr(n, base=3)

triadic_digits = [list(to_base3(i)) for i in range(1, 101)]
digit_counts = {'0':0, '1':0, '2':0}

for digits in triadic_digits:
    for d in digits:
        digit_counts[d] += 1

# Plot digit distribution
plt.bar(digit_counts.keys(), digit_counts.values(), color=['gray','blue','green'])
plt.title("Triadic Digit Distribution (1–100)")
plt.xlabel("Digit")
plt.ylabel("Frequency")
plt.grid(True)
plt.tight_layout()
plt.show()
