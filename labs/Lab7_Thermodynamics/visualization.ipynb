# 📦 Imports
import numpy as np
import matplotlib.pyplot as plt
import seaborn as sns
from scipy.stats import entropy

# 🔢 1. Classical Entropy (Shannon)
p = np.random.dirichlet(np.ones(10), size=1)[0]
S_shannon = -np.sum(p * np.log2(p))

plt.figure(figsize=(6,4))
sns.barplot(x=np.arange(len(p)), y=p, palette='mako')
plt.title(f'Shannon Entropy: {S_shannon:.3f} bits')
plt.xlabel('Microstate Index')
plt.ylabel('Probability')
plt.tight_layout()
plt.show()

# ⚛️ 2. Quantum Entropy (von Neumann)
eigenvals = np.random.dirichlet(np.ones(5), size=1)[0]
S_vn = -np.sum(eigenvals * np.log2(eigenvals))

plt.figure(figsize=(6,4))
sns.barplot(x=np.arange(len(eigenvals)), y=eigenvals, palette='rocket')
plt.title(f'von Neumann Entropy: {S_vn:.3f} bits')
plt.xlabel('Eigenstate Index')
plt.ylabel('Probability')
plt.tight_layout()
plt.show()

# 🌡️ 3. Temperature Gradient vs Entropy Flux
T_hot = 400  # Kelvin
T_cold = 300
delta_T = T_hot - T_cold
entropy_flux = np.linspace(0, delta_T, 100)

plt.figure(figsize=(8,4))
plt.plot(entropy_flux, np.log1p(entropy_flux), color='darkorange')
plt.title('Entropy Flux vs Temperature Gradient')
plt.xlabel('ΔT (K)')
plt.ylabel('Entropy Flux (arbitrary units)')
plt.grid(True)
plt.tight_layout()
plt.show()
