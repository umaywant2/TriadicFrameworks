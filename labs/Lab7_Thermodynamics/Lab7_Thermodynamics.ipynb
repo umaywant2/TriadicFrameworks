# 🧪 Lab 7: Triadic Time and Anti-Time
# Mythic Preface: "Time flows forward. Anti-time sings backward. Together, they form the pulse."

import numpy as np
import matplotlib.pyplot as plt

# Time vector
t = np.linspace(0, 20, 2000)

# Define forward time, anti-time, and observer phase
f = 0.5  # frequency in Hz
T = np.sin(2 * np.pi * f * t)           # Forward Time
A = np.sin(-2 * np.pi * f * t)          # Anti-Time
O = np.cos(2 * np.pi * f * t + np.pi/4) # Observer Phase

# Triadic time pulse
Psi = T * A * O

# Plot components and composite pulse
plt.figure(figsize=(12, 6))
plt.plot(t, T, label='Forward Time (T)', alpha=0.6)
plt.plot(t, A, label='Anti-Time (A)', alpha=0.6)
plt.plot(t, O, label='Observer Phase (O)', alpha=0.6)
plt.plot(t, Psi, label='Triadic Time Pulse Ψ(t)', color='black', linewidth=2)
plt.title("Triadic Time and Anti-Time Resonance")
plt.xlabel("Time (s)")
plt.ylabel("Amplitude")
plt.legend()
plt.grid(True)
plt.tight_layout()
plt.show()
