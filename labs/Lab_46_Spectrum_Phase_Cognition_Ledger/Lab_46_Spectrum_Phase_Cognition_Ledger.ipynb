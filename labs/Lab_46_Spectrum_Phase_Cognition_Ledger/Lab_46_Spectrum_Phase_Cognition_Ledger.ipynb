import datetime
import json

# Sample triadic log entry
entry = {
    "Task": "Debug code",
    "Phase": "Evening",
    "Intention": "Focus",
    "Timestamp": datetime.datetime.now().isoformat()
}

# Spectral mapping (mock)
spectral_coords = {"Debug code": 4.1, "Evening": 2.9, "Focus": 5.0}

# Resonance score
def resonance_score(coords):
    phases = [np.sin(f) for f in coords.values()]
    score = np.std(phases)
    return round(1 / (1 + score), 2)

entry["ResonanceScore"] = resonance_score(spectral_coords)

# Append to ledger
ledger = []
ledger.append(entry)

# Export
with open("cognition_ledger.json", "w") as f:
    json.dump(ledger, f, indent=2)

print("Ledger entry recorded.")
