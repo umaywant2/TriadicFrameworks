from datetime import datetime
import random

# Sample memory fragments
fragments = [
    "Wizard ignites flame",
    "Vault sealed with echo",
    "Resonance guides cognition",
    "Iron man rises again"
]

# Triadic structuring
triads = [frag.split() for frag in fragments]

# Assign resonance and timestamp
compiled_memory = []
for triad in triads:
    timestamp = datetime.now().isoformat()
    resonance = random.randint(1, 100)
    compiled_memory.append({
        'triad': triad,
        'timestamp': timestamp,
        'resonance': resonance
    })

# Output
for entry in compiled_memory:
    print(f"Triad: {entry['triad']} | Time: {entry['timestamp']} | Resonance: {entry['resonance']}")
