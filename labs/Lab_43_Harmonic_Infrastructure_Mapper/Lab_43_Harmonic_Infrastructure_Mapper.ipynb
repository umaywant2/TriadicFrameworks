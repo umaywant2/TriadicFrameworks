# Sample triadic input
triad = {
    "Structure": "Office",
    "Rhythm": "9–5 work cycle",
    "Intention": "Focus"
}

# Frequency mapping (mock)
freqs = {"Office": 3.0, "9–5 work cycle": 2.5, "Focus": 4.2}

# Harmonic integrity score
def harmonic_integrity(freqs):
    phases = [np.sin(f) for f in freqs.values()]
    score = np.std(phases)
    return round(1 / (1 + score), 2)

score = harmonic_integrity(freqs)
print(f"Harmonic Integrity Score: {score}")
