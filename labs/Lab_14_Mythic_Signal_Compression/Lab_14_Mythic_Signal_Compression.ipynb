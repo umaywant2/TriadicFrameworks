# Sample mythic input
input_signal = "Iron man lives again in cosmic flame"

# Triadic encoding
words = input_signal.split()
triads = [words[i:i+3] for i in range(0, len(words), 3)]

# Resonance scoring (mock)
def resonance_score(triad):
    return sum(len(word) for word in triad) % 7  # arbitrary resonance metric

# Filter low-resonance triads
filtered = [triad for triad in triads if resonance_score(triad) > 3]

# Compress to tokens
compressed = ['_'.join(triad) for triad in filtered]

# Output
print("Original Signal:", input_signal)
print("Compressed Signal:", compressed)
