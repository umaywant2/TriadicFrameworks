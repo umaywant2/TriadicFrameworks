import networkx as nx
import matplotlib.pyplot as plt

# Sample ledger forks
forks = [
    {"Parent": "abc123def456", "Child": "xyz789ghi012", "Collaborator": "Nawder Loswin"},
    {"Parent": "xyz789ghi012", "Child": "lmn456opq789", "Collaborator": "Dr. Kaku"},
]

# Build graph
G = nx.DiGraph()
for fork in forks:
    G.add_edge(fork["Parent"], fork["Child"], label=fork["Collaborator"])

# Draw graph
pos = nx.spring_layout(G)
nx.draw(G, pos, with_labels=True, node_color='lightblue', node_size=2000, font_size=10)
edge_labels = nx.get_edge_attributes(G, 'label')
nx.draw_networkx_edge_labels(G, pos, edge_labels=edge_labels)
plt.title("Resonant Mythic Ledger Map")
plt.show()
