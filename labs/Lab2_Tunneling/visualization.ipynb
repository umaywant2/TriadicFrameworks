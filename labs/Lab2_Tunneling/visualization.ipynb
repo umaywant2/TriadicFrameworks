📓 visualization.ipynb – Lab 2: Quantum Tunneling

📊 Sections

1. Import Libraries
2. Load I–V Data
3. Plot I–V Curve
4. Simulate Tunneling Probability
5. Triadic Overlay
6. Mythic Captioning

🧪 Sample Python Code Snippet
import numpy as np
import matplotlib.pyplot as plt

# Simulated I–V data
V = np.linspace(0, 1, 100)
I = np.exp(-((V - 0.45)**2) / 0.01) - 0.2 * V

# Plot I–V curve
plt.figure(figsize=(8,5))
plt.plot(V, I, label='Tunnel Diode I–V')
plt.axvspan(0.3, 0.6, color='orange', alpha=0.2, label='Negative Resistance Region')
plt.title('Quantum Tunneling – I–V Curve')
plt.xlabel('Voltage (V)')
plt.ylabel('Current (A)')
plt.legend()
plt.grid(True)
plt.show()

🎭 Mythic Caption
“The curve bends not from force, but from permission.” — Nawder Loswin
