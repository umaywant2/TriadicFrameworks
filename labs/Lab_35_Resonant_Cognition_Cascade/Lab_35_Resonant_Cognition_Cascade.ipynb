# Sample symbolic trigger
trigger = "Echo ignites Vault"

# Cognitive layers
layers = ["Memory", "Logic", "Myth"]

# Resonance scoring
def score_resonance(trigger):
    return sum(ord(c) for c in trigger) % 100 / 100  # Simplified score

# Cascade activation
def activate_cascade(score, layers):
    activated = []
    for i, layer in enumerate(layers):
        if score > i * 0.2:
            activated.append(layer)
    return activated

# Run cascade
res_score = score_resonance(trigger)
activated_layers = activate_cascade(res_score, layers)
print("Resonance Score:", res_score)
print("Activated Layers:", activated_layers)
