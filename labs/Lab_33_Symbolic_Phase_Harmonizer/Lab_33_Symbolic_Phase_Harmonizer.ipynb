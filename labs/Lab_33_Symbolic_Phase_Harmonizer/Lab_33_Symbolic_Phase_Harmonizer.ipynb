import numpy as np

# Sample symbolic signal
signal = np.sin(2 * np.pi * 1 * np.linspace(0, 1, 500))
drifted = np.sin(2 * np.pi * 1 * np.linspace(0, 1, 500) + np.pi/4)

# Phase correction
def harmonize_phase(original, drifted):
    phase_diff = np.angle(np.fft.fft(drifted)[1]) - np.angle(np.fft.fft(original)[1])
    corrected = np.sin(2 * np.pi * 1 * np.linspace(0, 1, 500) - phase_diff)
    return corrected, phase_diff

# Run harmonizer
corrected_signal, phase_shift = harmonize_phase(signal, drifted)
print(f"Phase shift detected: {phase_shift:.4f} radians")
